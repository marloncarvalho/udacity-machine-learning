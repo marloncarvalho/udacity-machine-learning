{
 "cells": [
  {
   "cell_type": "markdown",
   "metadata": {},
   "source": [
    "# Machine Learning Engineer Nanodegree\n",
    "## Supervised Learning\n",
    "## Project 2: Building a Student Intervention System"
   ]
  },
  {
   "cell_type": "markdown",
   "metadata": {},
   "source": [
    "Welcome to the second project of the Machine Learning Engineer Nanodegree! In this notebook, some template code has already been provided for you, and it will be your job to implement the additional functionality necessary to successfully complete this project. Sections that begin with **'Implementation'** in the header indicate that the following block of code will require additional functionality which you must provide. Instructions will be provided for each section and the specifics of the implementation are marked in the code block with a `'TODO'` statement. Please be sure to read the instructions carefully!\n",
    "\n",
    "In addition to implementing code, there will be questions that you must answer which relate to the project and your implementation. Each section where you will answer a question is preceded by a **'Question X'** header. Carefully read each question and provide thorough answers in the following text boxes that begin with **'Answer:'**. Your project submission will be evaluated based on your answers to each of the questions and the implementation you provide.  \n",
    "\n",
    ">**Note:** Code and Markdown cells can be executed using the **Shift + Enter** keyboard shortcut. In addition, Markdown cells can be edited by typically double-clicking the cell to enter edit mode."
   ]
  },
  {
   "cell_type": "markdown",
   "metadata": {},
   "source": [
    "### Question 1 - Classification vs. Regression\n",
    "*Your goal for this project is to identify students who might need early intervention before they fail to graduate. Which type of supervised learning problem is this, classification or regression? Why?*"
   ]
  },
  {
   "cell_type": "markdown",
   "metadata": {},
   "source": [
    "**Answer: **\n",
    "Como o objetivo da escola é identificar quais alunos precisam de intervenção ou não, nosso modelo precisa apenas informar, para cada aluno, um valor 'sim' ou 'não'. Trata-se, portanto, de uma classificação binária simples, onde a variável alvo é o atributo 'passed' que conterá um valor binário 1 ou 0, onde 1 indica que necessita de intervenção e 0 indica que não necessita de intervenção."
   ]
  },
  {
   "cell_type": "markdown",
   "metadata": {},
   "source": [
    "## Exploring the Data\n",
    "Run the code cell below to load necessary Python libraries and load the student data. Note that the last column from this dataset, `'passed'`, will be our target label (whether the student graduated or didn't graduate). All other columns are features about each student."
   ]
  },
  {
   "cell_type": "code",
   "execution_count": 3,
   "metadata": {
    "collapsed": false
   },
   "outputs": [
    {
     "name": "stdout",
     "output_type": "stream",
     "text": [
      "Student data read successfully!\n"
     ]
    }
   ],
   "source": [
    "# Import libraries\n",
    "import numpy as np\n",
    "import pandas as pd\n",
    "from time import time\n",
    "from sklearn.metrics import f1_score\n",
    "\n",
    "# Read student data\n",
    "student_data = pd.read_csv(\"student-data.csv\")\n",
    "print \"Student data read successfully!\""
   ]
  },
  {
   "cell_type": "markdown",
   "metadata": {},
   "source": [
    "### Implementation: Data Exploration\n",
    "Let's begin by investigating the dataset to determine how many students we have information on, and learn about the graduation rate among these students. In the code cell below, you will need to compute the following:\n",
    "- The total number of students, `n_students`.\n",
    "- The total number of features for each student, `n_features`.\n",
    "- The number of those students who passed, `n_passed`.\n",
    "- The number of those students who failed, `n_failed`.\n",
    "- The graduation rate of the class, `grad_rate`, in percent (%).\n"
   ]
  },
  {
   "cell_type": "code",
   "execution_count": 4,
   "metadata": {
    "collapsed": false
   },
   "outputs": [
    {
     "name": "stdout",
     "output_type": "stream",
     "text": [
      "Total number of students: 395\n",
      "Number of features: 30\n",
      "Number of students who passed: 265\n",
      "Number of students who failed: 130\n",
      "Graduation rate of the class: 67.09%\n"
     ]
    }
   ],
   "source": [
    "# TODO: Calculate number of students\n",
    "n_students = len(student_data.index)\n",
    "\n",
    "# TODO: Calculate number of features\n",
    "n_features = len(student_data.columns) - 1\n",
    "\n",
    "# TODO: Calculate passing students\n",
    "n_passed = len(student_data[student_data.passed == 'yes'])\n",
    "\n",
    "# TODO: Calculate failing students\n",
    "n_failed = len(student_data[student_data.passed == 'no'])\n",
    "\n",
    "# TODO: Calculate graduation rate\n",
    "grad_rate = 100 * (float(n_passed) / float(n_students))\n",
    "\n",
    "# Print the results\n",
    "print \"Total number of students: {}\".format(n_students)\n",
    "print \"Number of features: {}\".format(n_features)\n",
    "print \"Number of students who passed: {}\".format(n_passed)\n",
    "print \"Number of students who failed: {}\".format(n_failed)\n",
    "print \"Graduation rate of the class: {:.2f}%\".format(grad_rate)"
   ]
  },
  {
   "cell_type": "markdown",
   "metadata": {},
   "source": [
    "## Preparing the Data\n",
    "In this section, we will prepare the data for modeling, training and testing.\n",
    "\n",
    "### Identify feature and target columns\n",
    "It is often the case that the data you obtain contains non-numeric features. This can be a problem, as most machine learning algorithms expect numeric data to perform computations with.\n",
    "\n",
    "Run the code cell below to separate the student data into feature and target columns to see if any features are non-numeric."
   ]
  },
  {
   "cell_type": "code",
   "execution_count": 5,
   "metadata": {
    "collapsed": false
   },
   "outputs": [
    {
     "name": "stdout",
     "output_type": "stream",
     "text": [
      "Feature columns:\n",
      "['school', 'sex', 'age', 'address', 'famsize', 'Pstatus', 'Medu', 'Fedu', 'Mjob', 'Fjob', 'reason', 'guardian', 'traveltime', 'studytime', 'failures', 'schoolsup', 'famsup', 'paid', 'activities', 'nursery', 'higher', 'internet', 'romantic', 'famrel', 'freetime', 'goout', 'Dalc', 'Walc', 'health', 'absences']\n",
      "\n",
      "Target column: passed\n",
      "\n",
      "Feature values:\n",
      "  school sex  age address famsize Pstatus  Medu  Fedu     Mjob      Fjob  \\\n",
      "0     GP   F   18       U     GT3       A     4     4  at_home   teacher   \n",
      "1     GP   F   17       U     GT3       T     1     1  at_home     other   \n",
      "2     GP   F   15       U     LE3       T     1     1  at_home     other   \n",
      "3     GP   F   15       U     GT3       T     4     2   health  services   \n",
      "4     GP   F   16       U     GT3       T     3     3    other     other   \n",
      "\n",
      "    ...    higher internet  romantic  famrel  freetime goout Dalc Walc health  \\\n",
      "0   ...       yes       no        no       4         3     4    1    1      3   \n",
      "1   ...       yes      yes        no       5         3     3    1    1      3   \n",
      "2   ...       yes      yes        no       4         3     2    2    3      3   \n",
      "3   ...       yes      yes       yes       3         2     2    1    1      5   \n",
      "4   ...       yes       no        no       4         3     2    1    2      5   \n",
      "\n",
      "  absences  \n",
      "0        6  \n",
      "1        4  \n",
      "2       10  \n",
      "3        2  \n",
      "4        4  \n",
      "\n",
      "[5 rows x 30 columns]\n"
     ]
    }
   ],
   "source": [
    "# Extract feature columns\n",
    "feature_cols = list(student_data.columns[:-1])\n",
    "\n",
    "# Extract target column 'passed'\n",
    "target_col = student_data.columns[-1] \n",
    "\n",
    "# Show the list of columns\n",
    "print \"Feature columns:\\n{}\".format(feature_cols)\n",
    "print \"\\nTarget column: {}\".format(target_col)\n",
    "\n",
    "# Separate the data into feature data and target data (X_all and y_all, respectively)\n",
    "X_all = student_data[feature_cols]\n",
    "y_all = student_data[target_col]\n",
    "\n",
    "# Show the feature information by printing the first five rows\n",
    "print \"\\nFeature values:\"\n",
    "print X_all.head()"
   ]
  },
  {
   "cell_type": "markdown",
   "metadata": {},
   "source": [
    "### Preprocess Feature Columns\n",
    "\n",
    "As you can see, there are several non-numeric columns that need to be converted! Many of them are simply `yes`/`no`, e.g. `internet`. These can be reasonably converted into `1`/`0` (binary) values.\n",
    "\n",
    "Other columns, like `Mjob` and `Fjob`, have more than two values, and are known as _categorical variables_. The recommended way to handle such a column is to create as many columns as possible values (e.g. `Fjob_teacher`, `Fjob_other`, `Fjob_services`, etc.), and assign a `1` to one of them and `0` to all others.\n",
    "\n",
    "These generated columns are sometimes called _dummy variables_, and we will use the [`pandas.get_dummies()`](http://pandas.pydata.org/pandas-docs/stable/generated/pandas.get_dummies.html?highlight=get_dummies#pandas.get_dummies) function to perform this transformation. Run the code cell below to perform the preprocessing routine discussed in this section."
   ]
  },
  {
   "cell_type": "code",
   "execution_count": 6,
   "metadata": {
    "collapsed": false
   },
   "outputs": [
    {
     "name": "stdout",
     "output_type": "stream",
     "text": [
      "Processed feature columns (48 total features):\n",
      "['school_GP', 'school_MS', 'sex_F', 'sex_M', 'age', 'address_R', 'address_U', 'famsize_GT3', 'famsize_LE3', 'Pstatus_A', 'Pstatus_T', 'Medu', 'Fedu', 'Mjob_at_home', 'Mjob_health', 'Mjob_other', 'Mjob_services', 'Mjob_teacher', 'Fjob_at_home', 'Fjob_health', 'Fjob_other', 'Fjob_services', 'Fjob_teacher', 'reason_course', 'reason_home', 'reason_other', 'reason_reputation', 'guardian_father', 'guardian_mother', 'guardian_other', 'traveltime', 'studytime', 'failures', 'schoolsup', 'famsup', 'paid', 'activities', 'nursery', 'higher', 'internet', 'romantic', 'famrel', 'freetime', 'goout', 'Dalc', 'Walc', 'health', 'absences']\n"
     ]
    }
   ],
   "source": [
    "def preprocess_features(X):\n",
    "    ''' Preprocesses the student data and converts non-numeric binary variables into\n",
    "        binary (0/1) variables. Converts categorical variables into dummy variables. '''\n",
    "    \n",
    "    # Initialize new output DataFrame\n",
    "    output = pd.DataFrame(index = X.index)\n",
    "\n",
    "    # Investigate each feature column for the data\n",
    "    for col, col_data in X.iteritems():\n",
    "        \n",
    "        # If data type is non-numeric, replace all yes/no values with 1/0\n",
    "        if col_data.dtype == object:\n",
    "            col_data = col_data.replace(['yes', 'no'], [1, 0])\n",
    "\n",
    "        # If data type is categorical, convert to dummy variables\n",
    "        if col_data.dtype == object:\n",
    "            # Example: 'school' => 'school_GP' and 'school_MS'\n",
    "            col_data = pd.get_dummies(col_data, prefix = col)  \n",
    "        \n",
    "        # Collect the revised columns\n",
    "        output = output.join(col_data)\n",
    "    \n",
    "    return output\n",
    "\n",
    "X_all = preprocess_features(X_all)\n",
    "print \"Processed feature columns ({} total features):\\n{}\".format(len(X_all.columns), list(X_all.columns))"
   ]
  },
  {
   "cell_type": "markdown",
   "metadata": {},
   "source": [
    "### Implementation: Training and Testing Data Split\n",
    "So far, we have converted all _categorical_ features into numeric values. For the next step, we split the data (both features and corresponding labels) into training and test sets. In the following code cell below, you will need to implement the following:\n",
    "- Randomly shuffle and split the data (`X_all`, `y_all`) into training and testing subsets.\n",
    "  - Use 300 training points (approximately 75%) and 95 testing points (approximately 25%).\n",
    "  - Set a `random_state` for the function(s) you use, if provided.\n",
    "  - Store the results in `X_train`, `X_test`, `y_train`, and `y_test`."
   ]
  },
  {
   "cell_type": "code",
   "execution_count": 7,
   "metadata": {
    "collapsed": false
   },
   "outputs": [
    {
     "name": "stdout",
     "output_type": "stream",
     "text": [
      "Training set has 300 samples.\n",
      "Testing set has 95 samples.\n"
     ]
    }
   ],
   "source": [
    "# TODO: Import any additional functionality you may need here\n",
    "from sklearn.cross_validation import train_test_split\n",
    "\n",
    "# TODO: Set the number of training points\n",
    "num_train = 300\n",
    "\n",
    "# Set the number of testing points\n",
    "num_test = X_all.shape[0] - num_train\n",
    "\n",
    "# TODO: Shuffle and split the dataset into the number of training and testing points above\n",
    "X_train, X_test, y_train, y_test = train_test_split(X_all, y_all, test_size=num_test, train_size=num_train, random_state=9)\n",
    "\n",
    "# Show the results of the split\n",
    "print \"Training set has {} samples.\".format(X_train.shape[0])\n",
    "print \"Testing set has {} samples.\".format(X_test.shape[0])"
   ]
  },
  {
   "cell_type": "markdown",
   "metadata": {},
   "source": [
    "## Training and Evaluating Models\n",
    "In this section, you will choose 3 supervised learning models that are appropriate for this problem and available in `scikit-learn`. You will first discuss the reasoning behind choosing these three models by considering what you know about the data and each model's strengths and weaknesses. You will then fit the model to varying sizes of training data (100 data points, 200 data points, and 300 data points) and measure the F<sub>1</sub> score. You will need to produce three tables (one for each model) that shows the training set size, training time, prediction time, F<sub>1</sub> score on the training set, and F<sub>1</sub> score on the testing set.\n",
    "\n",
    "**The following supervised learning models are currently available in** [`scikit-learn`](http://scikit-learn.org/stable/supervised_learning.html) **that you may choose from:**\n",
    "- Gaussian Naive Bayes (GaussianNB)\n",
    "- Decision Trees\n",
    "- Ensemble Methods (Bagging, AdaBoost, Random Forest, Gradient Boosting)\n",
    "- K-Nearest Neighbors (KNeighbors)\n",
    "- Stochastic Gradient Descent (SGDC)\n",
    "- Support Vector Machines (SVM)\n",
    "- Logistic Regression"
   ]
  },
  {
   "cell_type": "markdown",
   "metadata": {},
   "source": [
    "### Question 2 - Model Application\n",
    "*List three supervised learning models that are appropriate for this problem. For each model chosen*\n",
    "- Describe one real-world application in industry where the model can be applied. *(You may need to do a small bit of research for this — give references!)* \n",
    "- What are the strengths of the model; when does it perform well? \n",
    "- What are the weaknesses of the model; when does it perform poorly?\n",
    "- What makes this model a good candidate for the problem, given what you know about the data?"
   ]
  },
  {
   "cell_type": "markdown",
   "metadata": {},
   "source": [
    "**Answer: **\n",
    "\n",
    "**1. SVM**\n",
    "\n",
    "  * **Aplicação no mundo real**\n",
    "  \n",
    "  Conforme descrito em [1], existem aplicações de sucesso de SVM em diversas áreas, notadamente nas áreas de categorização de textos e bioinformática. Em [3], também encontramos diversos cenários de uso de SVMs, em diversas áreas, como no diagnóstico de câncer e na detecção de gases. Um caso de uso real de SVM encontra-se em [4], onde esta técnica foi utilizada para a detecção de tipos de câncer.\n",
    " \n",
    "  \n",
    "  * **Vantagens**\n",
    "  \n",
    "  Conforme descrito na documentação do Scikit Learn [2], algumas das vantagens do SVM são:\n",
    "  \n",
    "    * É robusta no tratamento de dados de alta dimensão. Onde outros algoritmos tendem a apresentar overfitting ou underfitting, o SVM tem um desempenho mais robusto.\n",
    "    * Trabalha bem com pequenas quantidade de dados, mesmo quando o número de _features_ é maior que o número de exemplos.\n",
    "    * É eficiente no uso de memória, pois usa um subconjunto dos dados de treinamento na função de decisão.\n",
    "    \n",
    "  Destacado em [1], temos as seguintes vantagens:\n",
    "  \n",
    "    * As SVMs caracterizam-se por apresentar uma boa capacidade de generalização.\n",
    "    * O uso de funções de kernel na não linearização torna esse algoritmo eficiente, pois permite a construção de simples hiperplanos em um espaço de alta dimensão de forma tratável computacionalmente.\n",
    "    \n",
    "  \n",
    "  * **Desvantagens**\n",
    "  \n",
    "  Conforme descrito em [1], as duas principais desvantagens das SVMs são a sua sensibilidade a escolhas de valores de parâmetros e a dificuldade de interpretação do modelo gerado por essa técnica. Já em [2], temos que as principais desvantagens desse algoritmo são:\n",
    "  \n",
    "    * Caso o número de _features_ seja muito maior que o número de amostras, esse algoritmo apresenta um desempenho ruim.\n",
    "    * Não provê diretamente estimativas de probabilidade. Essas estimativas são providas por validação cruzada five-fold, que são custosas.\n",
    "    \n",
    "    Conforme discutido no decorrer das aulas neste curso, também podemos deduzir que o processo de identificação de um kernel pode ser complexo. As SVMs não são boas para processar grandes quantidades de dados ou dados com muito ruído, tendo um desempenho ruim e, por isso, seu uso pode ser questionável nesses cenários (também discutido em [3]).\n",
    "   \n",
    "  \n",
    "  * **Por que?**\n",
    "  \n",
    "  Este algoritmo foi escolhido por se tratar de um problema de classificação binária, no qual as SVMs são bastante usadas. Também por termos um número relativamente alto de _features_ comparados ao _dataset_, cenário no qual SVMs são robustas.\n",
    "  \n",
    "  \n",
    "  **Referências**\n",
    "  \n",
    "  [1] Inteligência Artifical: Uma Abordagem de Aprendizado de Máquina. Katti Faceli et all. 2015.\n",
    "  \n",
    "  [2] Documentação do Scikit Learn http://scikit-learn.org/stable/modules/svm.html\n",
    "  \n",
    "  [3] Support Vector Machines: Theory and Applications. Lipo Wang. Disponível em http://dlia.ir/Scientific/e_book/Science/Cybernetics/006305.pdf\n",
    "\n",
    "  [4] Classification of multiple cancer types by multicategory support vector machines using gene expression data - Disponível em http://bioinformatics.oxfordjournals.org/content/19/9/1132\n",
    "  \n",
    "  \n",
    "**2. Decision Tree**\n",
    "\n",
    "  * **Aplicação no mundo real**\n",
    "  \n",
    "  Decision Trees são aplicadas na área médica para resolver diversos problemas, conforme destaca [1]. Entre os muitos casos de uso de Decision Trees na medicina, destacamos o trabalho de Ohno e Machado (2000), que orientou na determinação de qual estratégia de campanha na vacinação contra sarampo deveria ser adotada no estado de São Paulo [2].\n",
    "  \n",
    "  \n",
    "  * **Vantagens**\n",
    "  \n",
    "  Conforme destacado na documentação do Scikit Learn [3], e reforçado na aula \"Árvores De Decisão: Pontos Fortes E Fracos\" do curso,  as Decision Trees possuem as seguintes vantagens:\n",
    "  \n",
    "    * São de fácil entendimento e interpretação, pois possuem uma representação gráfica que pode ser analisada.\n",
    "    * Não necessita de muita preparação dos dados, em oposição a outros métodos que necessitam de normalização dos dados ou remoção de valores em branco, por exemplo.\n",
    "    * Tem a capacidade de tratar dados numéricos e categóricos, em oposição a outras técnicas que são especializadas no tratamento de apenas um tipo.\n",
    "    * Adota o modelo de caixa branca, no qual um resultado dado por um modelo é facilmente explicado através de lógica booleana, em contraste com outros modelos, onde os resultados são difíceis de serem interpretados/explicados.\n",
    "    * Pode-se utilizar modelos estatísticas para validar o modelo, o que reforça a confiabilidade do modelo.\n",
    "    * O desempenho não é muito afetado mesmo que suas suposições sejam violadas pelo modelo gerado a partir dos dados.\n",
    "  \n",
    "  * **Desvantagens**\n",
    "  \n",
    " As desvantagens desta técnica, conforme o Scikit Learn [3] e a aula \"Árvores De Decisão: Pontos Fortes E Fracos\", são:\n",
    " \n",
    "    * Podem criar árvoes de decisão que são muito complexas e que não generalizam bem, sendo suscetível a overfitting.\n",
    "    * Pequenas variações nos dados podem gerar instabilidade, pois essas variações geram árvores de decisão totalmente diferentes.\n",
    "    * Decision Trees não expressam bem conceitos complexos, como XOR e Paridade (conforme as aulas sobre Expressividade das Árvores de Decisão).\n",
    "    * Criam árvoes com viés caso alguma classe seja dominante.\n",
    "  \n",
    "  \n",
    "  * **Por que?**\n",
    "  Este modelo apresenta uma boa métrica e bom desempnho para dados não-lineares, fato que pode ser encontrado nos dados apresentados neste problema.\n",
    " \n",
    "\n",
    "  **Referências**\n",
    "\n",
    "   [1] Decision trees: an overview and their use in medicine - https://www.researchgate.net/publication/11205595_Decision_Trees_An_Overview_and_Their_Use_in_Medicine\n",
    "   [2] Decision Trees and Fuzzy Logic: A Comparison of Models for the Selection of Measles Vaccination Strategies in Brazil - https://www.ncbi.nlm.nih.gov/pmc/articles/PMC2244038/pdf/procamiasymp00003-0660.pdf\n",
    "   [3] Scikit Learn Documentation - http://scikit-learn.org/stable/modules/tree.html\n",
    "\n",
    "**3. K-Nearest Neighbors**\n",
    "\n",
    "\n",
    "  * **Aplicação no mundo real**\n",
    "  \n",
    "   Uma caso de aplicação de K-Nearest Neighbors é apresentada em [1], no qual a Netflix utilizou esta técnica em seu sistema de sugestão de filmes. Neste sistema, os filmes são avaliados com valores de 1 a 5 e novos filmes recebem suas avaliações a partir de avaliações dadas por outros usuários com interesses similares.\n",
    "\n",
    "\n",
    "  * **Vantagens**\n",
    "  \n",
    "  Para [2], o KNN tem como principais vantagens sua simplicidade, efetividade e ser intuitivo. Também é destacado que o KNN é bastante robusto quando há ruído nos dados, além de ser muito efetivo quando temos uma grande quantidade de dados de treinamento. Já [3] indica como principal vantagem o custo praticamente zero para treinar este algoritmo.\n",
    "  \n",
    "  \n",
    "  * **Desvantagens**\n",
    "  \n",
    "  Conforme destacado por [2], [3] e [4], este algoritmo tem um custo computacional alto quando existe um conjunto de dados de treinamento muito grande. Para [2], o k-NN também é bastante sensível a _features_ irrelevantes ou redundantes. \n",
    "  \n",
    "  \n",
    "  * **Por que?**\n",
    "  \n",
    "  Considerando apenas a questão intuitiva, este algoritmo aparenta ser um bom candidato, pois embora não saibamos exatamente o relacionamento existente entre as _features_, temos a intuição de que alunos que tem similaridades com aqueles que já falharam tendem a ter um risco maior de falhar também. Considerando a questão de desempenho, o KNN também se apresenta interessante, pois não há um conjunto de dados de treinamento muito grande para este exemplo, o que não o torna demasiadamente lento.\n",
    "  \n",
    "\n",
    " [1] Use of KNN for the Netflix Prize http://cs229.stanford.edu/proj2006/HongTsamis-KNNForNetflix.pdf\n",
    " [2] Application fo K-Nearest Neighbors http://www.ijera.com/papers/Vol3_issue5/DI35605610.pdf\n",
    " [3] K-nearest neighbours http://www.cs.upc.edu/~bejar/apren/docum/trans/03d-algind-knn-eng.pdf\n",
    " [4] K-nearest Neighbour Classifiers https://csiweb.ucd.ie/files/UCD-CSI-2007-4.pdf"
   ]
  },
  {
   "cell_type": "markdown",
   "metadata": {},
   "source": [
    "### Setup\n",
    "Run the code cell below to initialize three helper functions which you can use for training and testing the three supervised learning models you've chosen above. The functions are as follows:\n",
    "- `train_classifier` - takes as input a classifier and training data and fits the classifier to the data.\n",
    "- `predict_labels` - takes as input a fit classifier, features, and a target labeling and makes predictions using the F<sub>1</sub> score.\n",
    "- `train_predict` - takes as input a classifier, and the training and testing data, and performs `train_clasifier` and `predict_labels`.\n",
    " - This function will report the F<sub>1</sub> score for both the training and testing data separately."
   ]
  },
  {
   "cell_type": "code",
   "execution_count": 8,
   "metadata": {
    "collapsed": false
   },
   "outputs": [],
   "source": [
    "def train_classifier(clf, X_train, y_train):\n",
    "    ''' Fits a classifier to the training data. '''\n",
    "    \n",
    "    # Start the clock, train the classifier, then stop the clock\n",
    "    start = time()\n",
    "    clf.fit(X_train, y_train)\n",
    "    end = time()\n",
    "    \n",
    "    # Print the results\n",
    "    print \"Trained model in {:.4f} seconds\".format(end - start)\n",
    "\n",
    "    \n",
    "def predict_labels(clf, features, target):\n",
    "    ''' Makes predictions using a fit classifier based on F1 score. '''\n",
    "    \n",
    "    # Start the clock, make predictions, then stop the clock\n",
    "    start = time()\n",
    "    y_pred = clf.predict(features)\n",
    "    end = time()\n",
    "    \n",
    "    # Print and return results\n",
    "    print \"Made predictions in {:.4f} seconds.\".format(end - start)\n",
    "    return f1_score(target.values, y_pred, pos_label='yes')\n",
    "\n",
    "\n",
    "def train_predict(clf, X_train, y_train, X_test, y_test):\n",
    "    ''' Train and predict using a classifer based on F1 score. '''\n",
    "    \n",
    "    # Indicate the classifier and the training set size\n",
    "    print \"Training a {} using a training set size of {}. . .\".format(clf.__class__.__name__, len(X_train))\n",
    "    \n",
    "    # Train the classifier\n",
    "    train_classifier(clf, X_train, y_train)\n",
    "    \n",
    "    # Print the results of prediction for both training and testing\n",
    "    print \"F1 score for training set: {:.4f}.\".format(predict_labels(clf, X_train, y_train))\n",
    "    print \"F1 score for test set: {:.4f}.\".format(predict_labels(clf, X_test, y_test))"
   ]
  },
  {
   "cell_type": "markdown",
   "metadata": {},
   "source": [
    "### Implementation: Model Performance Metrics\n",
    "With the predefined functions above, you will now import the three supervised learning models of your choice and run the `train_predict` function for each one. Remember that you will need to train and predict on each classifier for three different training set sizes: 100, 200, and 300. Hence, you should expect to have 9 different outputs below — 3 for each model using the varying training set sizes. In the following code cell, you will need to implement the following:\n",
    "- Import the three supervised learning models you've discussed in the previous section.\n",
    "- Initialize the three models and store them in `clf_A`, `clf_B`, and `clf_C`.\n",
    " - Use a `random_state` for each model you use, if provided.\n",
    " - **Note:** Use the default settings for each model — you will tune one specific model in a later section.\n",
    "- Create the different training set sizes to be used to train each model.\n",
    " - *Do not reshuffle and resplit the data! The new training points should be drawn from `X_train` and `y_train`.*\n",
    "- Fit each model with each training set size and make predictions on the test set (9 in total).  \n",
    "**Note:** Three tables are provided after the following code cell which can be used to store your results."
   ]
  },
  {
   "cell_type": "code",
   "execution_count": 9,
   "metadata": {
    "collapsed": false
   },
   "outputs": [
    {
     "name": "stdout",
     "output_type": "stream",
     "text": [
      "Training a SVC using a training set size of 100. . .\n",
      "Trained model in 0.0021 seconds\n",
      "Made predictions in 0.0012 seconds.\n",
      "F1 score for training set: 0.9041.\n",
      "Made predictions in 0.0087 seconds.\n",
      "F1 score for test set: 0.8375.\n",
      "-----------------------------------------------------------------------\n",
      "Training a DecisionTreeClassifier using a training set size of 100. . .\n",
      "Trained model in 0.0011 seconds\n",
      "Made predictions in 0.0002 seconds.\n",
      "F1 score for training set: 1.0000.\n",
      "Made predictions in 0.0002 seconds.\n",
      "F1 score for test set: 0.7407.\n",
      "-----------------------------------------------------------------------\n",
      "Training a KNeighborsClassifier using a training set size of 100. . .\n",
      "Trained model in 0.0007 seconds\n",
      "Made predictions in 0.0016 seconds.\n",
      "F1 score for training set: 0.8936.\n",
      "Made predictions in 0.0083 seconds.\n",
      "F1 score for test set: 0.8267.\n",
      "-----------------------------------------------------------------------\n",
      "Training a SVC using a training set size of 200. . .\n",
      "Trained model in 0.0109 seconds\n",
      "Made predictions in 0.0101 seconds.\n",
      "F1 score for training set: 0.8669.\n",
      "Made predictions in 0.0071 seconds.\n",
      "F1 score for test set: 0.8442.\n",
      "-----------------------------------------------------------------------\n",
      "Training a DecisionTreeClassifier using a training set size of 200. . .\n",
      "Trained model in 0.0018 seconds\n",
      "Made predictions in 0.0003 seconds.\n",
      "F1 score for training set: 1.0000.\n",
      "Made predictions in 0.0002 seconds.\n",
      "F1 score for test set: 0.8030.\n",
      "-----------------------------------------------------------------------\n",
      "Training a KNeighborsClassifier using a training set size of 200. . .\n",
      "Trained model in 0.0008 seconds\n",
      "Made predictions in 0.0233 seconds.\n",
      "F1 score for training set: 0.8741.\n",
      "Made predictions in 0.0060 seconds.\n",
      "F1 score for test set: 0.8169.\n",
      "-----------------------------------------------------------------------\n",
      "Training a SVC using a training set size of 300. . .\n",
      "Trained model in 0.0178 seconds\n",
      "Made predictions in 0.0163 seconds.\n",
      "F1 score for training set: 0.8472.\n",
      "Made predictions in 0.0082 seconds.\n",
      "F1 score for test set: 0.8387.\n",
      "-----------------------------------------------------------------------\n",
      "Training a DecisionTreeClassifier using a training set size of 300. . .\n",
      "Trained model in 0.0071 seconds\n",
      "Made predictions in 0.0005 seconds.\n",
      "F1 score for training set: 1.0000.\n",
      "Made predictions in 0.0004 seconds.\n",
      "F1 score for test set: 0.6992.\n",
      "-----------------------------------------------------------------------\n",
      "Training a KNeighborsClassifier using a training set size of 300. . .\n",
      "Trained model in 0.0009 seconds\n",
      "Made predictions in 0.0345 seconds.\n",
      "F1 score for training set: 0.8744.\n",
      "Made predictions in 0.0095 seconds.\n",
      "F1 score for test set: 0.8163.\n",
      "-----------------------------------------------------------------------\n"
     ]
    }
   ],
   "source": [
    "from sklearn.svm import SVC\n",
    "from sklearn.tree import DecisionTreeClassifier\n",
    "from sklearn.neighbors import KNeighborsClassifier\n",
    "\n",
    "clf_A = SVC(random_state=42)\n",
    "clf_B = DecisionTreeClassifier(random_state=42)\n",
    "clf_C = KNeighborsClassifier(n_neighbors=3)\n",
    "\n",
    "# TODO: Set up the training set sizes\n",
    "X_train_100 = X_train[:100]\n",
    "y_train_100 = y_train[:100]\n",
    "\n",
    "X_train_200 = X_train[:200]\n",
    "y_train_200 = y_train[:200]\n",
    "\n",
    "X_train_300 = X_train[:300]\n",
    "y_train_300 = y_train[:300]\n",
    "\n",
    "for clf in [clf_A, clf_B, clf_C]:\n",
    "    train_predict(clf, X_train_100, y_train_100, X_test, y_test)\n",
    "    print '-----------------------------------------------------------------------'\n",
    "    \n",
    "for clf in [clf_A, clf_B, clf_C]:\n",
    "    train_predict(clf, X_train_200, y_train_200, X_test, y_test)\n",
    "    print '-----------------------------------------------------------------------'\n",
    "\n",
    "for clf in [clf_A, clf_B, clf_C]:\n",
    "    train_predict(clf, X_train_300, y_train_300, X_test, y_test)\n",
    "    print '-----------------------------------------------------------------------'\n"
   ]
  },
  {
   "cell_type": "markdown",
   "metadata": {},
   "source": [
    "### Tabular Results\n",
    "Edit the cell below to see how a table can be designed in [Markdown](https://github.com/adam-p/markdown-here/wiki/Markdown-Cheatsheet#tables). You can record your results from above in the tables provided."
   ]
  },
  {
   "cell_type": "markdown",
   "metadata": {},
   "source": [
    "** Classifer 1 - SVM**  \n",
    "\n",
    "| Training Set Size | Training Time | Prediction Time (test) | F1 Score (train) | F1 Score (test) |\n",
    "| :---------------: | :---------------------: | :--------------------: | :--------------: | :-------------: |\n",
    "| 100               |   0.0064                |   0.0036               |  0.9041          |  0.8375         |\n",
    "| 200               |   0.0143                |   0.0302               |  0.8669          |  0.8442         |\n",
    "| 300               |   0.0435                |   0.0370               |  0.8472          |  0.8387         |\n",
    "\n",
    "** Classifer 2 - Decision Trees**  \n",
    "\n",
    "| Training Set Size | Training Time | Prediction Time (test) | F1 Score (train) | F1 Score (test) |\n",
    "| :---------------: | :---------------------: | :--------------------: | :--------------: | :-------------: |\n",
    "| 100               |   0.0010                |   0.0002               | 1.0000           | 0.7407          |\n",
    "| 200               |   0.0053                |   0.0004               | 1.0000           | 0.8030          |\n",
    "| 300               |   0.0025                |   0.0002               | 1.0000           | 0.6992          |\n",
    "\n",
    "** Classifer 3 - KNeighbors**  \n",
    "\n",
    "| Training Set Size | Training Time | Prediction Time (test) | F1 Score (train) | F1 Score (test) |\n",
    "| :---------------: | :---------------------: | :--------------------: | :--------------: | :-------------: |\n",
    "| 100               |  0.0069                 |  0.0017                |  0.8936          | 0.8267          |\n",
    "| 200               |  0.0007                 |  0.0244                |  0.8741          | 0.8169          |\n",
    "| 300               |  0.0099                 |  0.0213                |  0.8744          | 0.8163          |"
   ]
  },
  {
   "cell_type": "markdown",
   "metadata": {},
   "source": [
    "## Choosing the Best Model\n",
    "In this final section, you will choose from the three supervised learning models the *best* model to use on the student data. You will then perform a grid search optimization for the model over the entire training set (`X_train` and `y_train`) by tuning at least one parameter to improve upon the untuned model's F<sub>1</sub> score. "
   ]
  },
  {
   "cell_type": "markdown",
   "metadata": {},
   "source": [
    "### Question 3 - Choosing the Best Model\n",
    "*Based on the experiments you performed earlier, in one to two paragraphs, explain to the board of supervisors what single model you chose as the best model. Which model is generally the most appropriate based on the available data, limited resources, cost, and performance?*"
   ]
  },
  {
   "cell_type": "markdown",
   "metadata": {},
   "source": [
    "**Answer: **\n",
    "De acordo com os dados obtidos até este momento, e tendo em consideração as limitações de recursos, custos e desempenho, considero o melhor modelo como sendo o SVM. Observando o conjunto de treinamento com 395 (95 para teste), este modelo obteve um tempo de treinamento de 0.0435 e de predição de 0.0370, com  o melhor F1 Score de todos os modelos, com 83,87%. \n",
    "\n",
    "Embora o modelo KNeighbors tenha tempos melhores, tanto de treinamento como de predição, seu F1 Score é menor, sendo de 0.8163. Considero que, para o conjunto de dados apresentado, no qual temos 395 estudantes, o tempo menor obtido pelo KNeighbors, principalmente no treinamento, não seja um fator que desequilibre a seu favor. O melhor F1 Score do modelo SVM, entretanto, nos dá uma precisão melhor para os dados, com um custo computacional um pouco maior que o KNeighbors, mas que acredito não ser comprometedor.\n",
    "\n",
    "Quanto ao modelo de Decision Trees, observei um F1 Score muito baixo para todos os casos, sendo este o motivo de tê-lo descartado na análise, mantendo apenas o SVM e o KNeighbors como opções viáveis. Concluindo, deve-se considerar o algoritmo KNeighbors como uma opção interessante quando os recursos forem extremamente limitados, tendo em vista que seus tempos de treinamento, tanto para testes como para predição, são os menores entre os três modelos."
   ]
  },
  {
   "cell_type": "markdown",
   "metadata": {},
   "source": [
    "### Question 4 - Model in Layman's Terms\n",
    "*In one to two paragraphs, explain to the board of directors in layman's terms how the final model chosen is supposed to work. Be sure that you are describing the major qualities of the model, such as how the model is trained and how the model makes a prediction. Avoid using advanced mathematical or technical jargon, such as describing equations or discussing the algorithm implementation.*"
   ]
  },
  {
   "cell_type": "markdown",
   "metadata": {},
   "source": [
    "**Answer: **\n",
    "O SVM é um algoritmo que pode ser usado tanto para classificação, como para regressão, sendo mais adotado para resolver problemas de classificação. Neste algoritmo, os dados de cada estudante são colocados como pontos em um plano com 30 dimensões, no qual temos cada dimensão representa uma *feature* (idade, sexo, etc). A partir de agora, o algoritmo é treinado com os dados de treinamento, e tentará encontrar hiperplanos (linhas, curvas, etc) que melhor dividem o conjunto de dados em duas classes (intervir e não intervir). A ideia central é encontrar o hiperplano que divide os pontos de forma que estes pontos estejam o mais distante possível do hiperplano e ainda assim colocados do lado correto (classificados corretamente).\n",
    "\n",
    "Uma vez realizada a etapa de treinamento, o modelo pode ser usado com novos dados usando medidas de similaridade, que ajudam a identificar se um novo estudante é similar a outro, ajudando a encontrar qual lado do hiperplano este novo estudante deve pertencer. "
   ]
  },
  {
   "cell_type": "markdown",
   "metadata": {},
   "source": [
    "### Implementation: Model Tuning\n",
    "Fine tune the chosen model. Use grid search (`GridSearchCV`) with at least one important parameter tuned with at least 3 different values. You will need to use the entire training set for this. In the code cell below, you will need to implement the following:\n",
    "- Import [`sklearn.grid_search.gridSearchCV`](http://scikit-learn.org/stable/modules/generated/sklearn.grid_search.GridSearchCV.html) and [`sklearn.metrics.make_scorer`](http://scikit-learn.org/stable/modules/generated/sklearn.metrics.make_scorer.html).\n",
    "- Create a dictionary of parameters you wish to tune for the chosen model.\n",
    " - Example: `parameters = {'parameter' : [list of values]}`.\n",
    "- Initialize the classifier you've chosen and store it in `clf`.\n",
    "- Create the F<sub>1</sub> scoring function using `make_scorer` and store it in `f1_scorer`.\n",
    " - Set the `pos_label` parameter to the correct value!\n",
    "- Perform grid search on the classifier `clf` using `f1_scorer` as the scoring method, and store it in `grid_obj`.\n",
    "- Fit the grid search object to the training data (`X_train`, `y_train`), and store it in `grid_obj`."
   ]
  },
  {
   "cell_type": "code",
   "execution_count": 10,
   "metadata": {
    "collapsed": false
   },
   "outputs": [
    {
     "name": "stdout",
     "output_type": "stream",
     "text": [
      "Made predictions in 0.0084 seconds.\n",
      "Tuned model has a training F1 score of 0.9774.\n",
      "Made predictions in 0.0027 seconds.\n",
      "Tuned model has a testing F1 score of 0.8519.\n"
     ]
    }
   ],
   "source": [
    "# TODO: Import 'GridSearchCV' and 'make_scorer'\n",
    "from sklearn.grid_search import GridSearchCV\n",
    "from sklearn.metrics import make_scorer\n",
    "from sklearn.svm import SVC\n",
    "\n",
    "# TODO: Create the parameters list you wish to tune\n",
    "parameters = { 'C' : [ 0.001, 0.01, 0.1, 1, 10, 100, 1000], 'gamma' : [ 0.0001, 0.001, 0.1, 10, 100, 1000 ] }\n",
    "#parameters = {'kernel' : ('linear','rbf','poly'),'C':[1,10]}\n",
    "\n",
    "# TODO: Initialize the classifier\n",
    "clf = SVC()\n",
    "\n",
    "# TODO: Make an f1 scoring function using 'make_scorer' \n",
    "f1_scorer = make_scorer(f1_score, pos_label='yes')\n",
    "\n",
    "# TODO: Perform grid search on the classifier using the f1_scorer as the scoring method\n",
    "grid_obj = GridSearchCV(clf, parameters, f1_scorer)\n",
    "\n",
    "# TODO: Fit the grid search object to the training data and find the optimal parameters\n",
    "grid_obj = grid_obj.fit(X_train, y_train)\n",
    "\n",
    "# Get the estimator\n",
    "clf = grid_obj.best_estimator_\n",
    "\n",
    "# Report the final F1 score for training and testing after parameter tuning\n",
    "print \"Tuned model has a training F1 score of {:.4f}.\".format(predict_labels(clf, X_train, y_train))\n",
    "print \"Tuned model has a testing F1 score of {:.4f}.\".format(predict_labels(clf, X_test, y_test))"
   ]
  },
  {
   "cell_type": "markdown",
   "metadata": {},
   "source": [
    "### Question 5 - Final F<sub>1</sub> Score\n",
    "*What is the final model's F<sub>1</sub> score for training and testing? How does that score compare to the untuned model?*"
   ]
  },
  {
   "cell_type": "markdown",
   "metadata": {},
   "source": [
    "**Answer: **\n",
    "O F1 Score encontrado para treinamento foi de 0.9774, enquanto para teste foi de 0.8519. Houve uma melhoria nos scores, quando comparado com o modelo *untuned*. No modelo anterior, tínhamos F1 Score de 0.8472 para treinamento e 0.8387 para predição, demonstrando uma leve melhora no F1 Score de predição, o que é interessante e desejável.\n",
    "\n",
    "Entretanto, o tempo de predição caiu bastante, de 0.0370 para 0.0084, da mesma forma, o tempo de treinamento também caiu, de 0.0435 para 0.0027. Esta melhoria nos tempos é interessante, principalmente considerando custos e recursos limitados."
   ]
  },
  {
   "cell_type": "markdown",
   "metadata": {},
   "source": [
    "> **Note**: Once you have completed all of the code implementations and successfully answered each question above, you may finalize your work by exporting the iPython Notebook as an HTML document. You can do this by using the menu above and navigating to  \n",
    "**File -> Download as -> HTML (.html)**. Include the finished document along with this notebook as your submission."
   ]
  }
 ],
 "metadata": {
  "kernelspec": {
   "display_name": "Python 2",
   "language": "python",
   "name": "python2"
  },
  "language_info": {
   "codemirror_mode": {
    "name": "ipython",
    "version": 2
   },
   "file_extension": ".py",
   "mimetype": "text/x-python",
   "name": "python",
   "nbconvert_exporter": "python",
   "pygments_lexer": "ipython2",
   "version": "2.7.12"
  }
 },
 "nbformat": 4,
 "nbformat_minor": 0
}
